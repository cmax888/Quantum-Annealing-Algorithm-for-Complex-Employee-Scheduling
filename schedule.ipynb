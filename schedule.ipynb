import pandas as pd
from load import staff_data, work_data, w_data, numpy_matrix1, numpy_matrix2, numpy_matrix3, numpy_matrix4

N = 50 #共521名待安排员工
D = 12  #一周工作六天，每天有白班和夜班
# R = 4   #三个车间0表示米果、1表示点心、2表示卷心酥、3表示其他车间
A = 51  #岗位，三个车间共51个岗位（0-16米果车间、17-31点心车间、32-50卷心酥车间）

F = staff_data['组织名称'] # 表示每个员工应在车间
G = staff_data['技能id']   # 表示每个员工的技能
Lp = work_data['标准人数']  # 表示岗位的人数限制
L = Lp.tolist()

import numpy as np
from itertools import product

# 创建第一行：米果车间对应岗位
first_row = np.concatenate((np.ones(17), np.zeros(34)))
# 创建第二行: 点心车间对应岗位
second_row = np.concatenate((np.zeros(17), np.ones(15), np.zeros(19)))
# 创建第三行: 卷心酥车间对应岗位
third_row = np.concatenate((np.zeros(32), np.ones(19)))
# 创建第四行：其他车间无岗位提供
forth_row = np.zeros(51)
# 合并成一个二维矩阵，代表三个车间与岗位的对应关系
W = np.array([first_row, second_row, third_row, forth_row])

Mr = numpy_matrix1 # 员工与车间的对应矩阵
Ma = numpy_matrix2 # 技能与岗位的对应矩阵
Ms = numpy_matrix3 # 员工与技能的对应矩阵
Md = numpy_matrix4 # 员工与上班时间的对应矩阵

# J = np.zeros((N, D, N, D))
# for n1, d1, n2, d2 in product(range(N), range(D), range(N), range(D)):
#     if n1 == n2 and d1 + 1 == d2:
#         J[n1, d1, n2, d2] = 1 # 如果白天和夜晚连续工作，施加惩罚

print(Mr.shape)
print(W.T.shape)
print(Ma.shape)
print(Ms.shape)
print(Md.shape)

from pyqubo import Array, Constraint, Placeholder

# 二进制变量
q = Array.create('q', shape=(N, D, A), vartype='BINARY') #q(n,d,a)为1表示在n员工在第d天在a岗位上工作
# f1 = np.concatenate((np.zeros(14),np.ones(3), np.zeros(34)))
# f2 = np.zeros(51)
# p = np.array([f1,f2])

# 员工在每天每个岗位上最多只能出现一次
H1 = np.sum([np.sum([((2*np.sum([q[n,d,a] for a in range(A)])-1)**2-1) for d in range(D)]) for n in range(N)])

# # 员工工作地点需要对应车间
# H2 = np.sum([np.sum((q[:,d,:]@W.T)*Mr) for d in range(D)])

# # 员工的技能需要对应工作岗位
# H3 = np.sum([np.sum((q[:,d,:]@Ma)*Ms) for d in range(D)])

# 每天每个岗位都要确保有标准人数的员工（遍历）
# H4 = np.sum([np.sum([(np.sum([q[n,d,a] for n in range(N)])-L[a])**2 for a in range(A)]) for d in range(D)])

# # # 员工一天不能连续上早晚班
# # H5 = np.sum([J[n1, d1, n2, d2] * np.sum(q[n1,d1,:]) * np.sum(q[n2,d2,:])
# #             for n1, n2, d1, d2 in product(range(N), range(N), range(D), range(D))])

# # 员工出勤时间与意愿要对应
# H5 = np.sum(np.sum([Md@q[n,:,:] for n in range(N)]))


# # # 使员工的出勤次数较为均匀
# # sum_q = np.sum(q, axis=(1, 2))
# # average_q = np.mean(sum_q)
# # H6 = np.sum([(np.sum(q[n,:,:])-average_q)**2 for n in range(N)])

# # 目标函数
# feed_dict = {'n1': 2, 'n2': 1, 'n3': 1.3, 'n4': 1.3, 'n5': 1.1} # 约束项系数  'n6': 0.6
# H = Placeholder('n1') * Constraint(H1, 'H1') + Placeholder('n2') * Constraint(H2, 'H2') + Placeholder('n3') * Constraint(H3, 'H3') + Placeholder('n4') * Constraint(H4, 'H4') + Placeholder('n5') * Constraint(H5, 'H5')
feed_dict = {'n1': 2}
H = Placeholder('n1') * Constraint(H1, 'H1')
model = H.compile()

# bqm = model.to_bqm(feed_dict=feed_dict) # 将模型转化为二进制量子位模型

# 使用D-wave量子退火
from dwave.system import DWaveSampler, EmbeddingComposite
sampler_config = {'solver': 'Advantage2_prototype2.4', 'token': 'DEV-05e1f86b8681b0c6633d4396580548b2003867e8'}
sampler = EmbeddingComposite(DWaveSampler(**sampler_config))

num_reads = 100 # 样本数
sampleset = sampler.sample(bqm, num_reads=num_reads) # 量子采样，返回80个样本
# sampleset.record[:10] #查看前十个采样结果

# 从给定解中找到可行解
def extract_feasible_samples(samples, print_broken=False):
    feasible_samples = []
    for sample in decoded_samples:
        constraints = sample.constraints(only_broken=True)
        # 如果没有约束条件被破坏，则为可行解
        if len(constraints) == 0:
            feasible_samples.append(sample)
        # 如果违反了约束条件，则打印这些约束
        elif print_broken:
            print(constraints)
    return feasible_samples

decoded_samples = model.decode_sampleset(sampleset.aggregate(), feed_dict) #对聚合后的样本进行解码操作
feasible_samples = extract_feasible_samples(decoded_samples)
print('可能解的个数:', len(feasible_samples))
